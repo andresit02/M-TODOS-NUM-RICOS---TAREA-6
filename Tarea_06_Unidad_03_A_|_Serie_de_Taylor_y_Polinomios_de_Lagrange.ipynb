{
  "nbformat": 4,
  "nbformat_minor": 0,
  "metadata": {
    "colab": {
      "provenance": [],
      "authorship_tag": "ABX9TyOjsMnRLD3gvRoT0+OQq4oT",
      "include_colab_link": true
    },
    "kernelspec": {
      "name": "python3",
      "display_name": "Python 3"
    },
    "language_info": {
      "name": "python"
    }
  },
  "cells": [
    {
      "cell_type": "markdown",
      "metadata": {
        "id": "view-in-github",
        "colab_type": "text"
      },
      "source": [
        "<a href=\"https://colab.research.google.com/github/andresit02/M-TODOS-NUM-RICOS---TAREA-6/blob/main/Tarea_06_Unidad_03_A_%7C_Serie_de_Taylor_y_Polinomios_de_Lagrange.ipynb\" target=\"_parent\"><img src=\"https://colab.research.google.com/assets/colab-badge.svg\" alt=\"Open In Colab\"/></a>"
      ]
    },
    {
      "cell_type": "markdown",
      "source": [
        "**ESCUELA POLITÉCNICA NACIONAL**\n",
        "\n",
        "**MÉTODOS NUMÉRICOS**\n",
        "\n",
        "**[Tarea 06] Unidad 03-A | Serie de Taylor y Polinomios de Lagrange**\n",
        "\n",
        "**Realizado por: Andres Patricio Fernandez Obaco**"
      ],
      "metadata": {
        "id": "heai1dRllo0f"
      }
    },
    {
      "cell_type": "markdown",
      "source": [
        "**Ejercicio**\n",
        "\n",
        "Determine el orden de la mejor aproximación para las siguientes funciones, usando la Serie de Taylor y el Polinomio de Lagrange:\n",
        "- $\\frac{1}{25x^2 + 1}, x0=0$\n",
        "- $ arctan x , x0 = 1$\n",
        "\n",
        "Escriba las fórmulas de los diferentes polinomios\n",
        "\n",
        "Grafique las diferentes aproximaciones"
      ],
      "metadata": {
        "id": "hZvTEXoylrlr"
      }
    },
    {
      "cell_type": "code",
      "source": [],
      "metadata": {
        "id": "5dc8Ka06mZex"
      },
      "execution_count": null,
      "outputs": []
    }
  ]
}